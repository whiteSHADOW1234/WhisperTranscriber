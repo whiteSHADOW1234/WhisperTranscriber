{
  "nbformat": 4,
  "nbformat_minor": 0,
  "metadata": {
    "colab": {
      "provenance": [],
      "gpuType": "T4"
    },
    "kernelspec": {
      "name": "python3",
      "display_name": "Python 3"
    },
    "language_info": {
      "name": "python"
    },
    "accelerator": "GPU"
  },
  "cells": [
    {
      "cell_type": "markdown",
      "source": [
        "### Whisper 快速使用指南\n",
        "Whisper 是由 OpenAI 提供的一種開源神經網路模型，用於自動語音辨識（Automatic Speech Recognition, ASR）。它能夠執行語言識別（language identification）和語音翻譯（speech translation），支持多語種語音轉錄，甚至可以處理音頻品質較差或有大量背景雜訊的情況。\n",
        "\n",
        "以下步驟將說明如何使用此程式將影音轉換為文字：\n",
        "1. 在「執行階段」選單中，選擇「變更執行階段類型」，然後在彈出的視窗中選擇 `T4 GPU`。\n",
        "2. 每次打開此文件時，點擊「執行階段」中的「全部執行」或按下 `Ctrl + F9`。\n",
        "3. 當程序執行至第 4 段時，請選擇要提取文字的資料類型（YouTube 連結 / MP3 / MP4），然後點擊「確認」按鈕。\n",
        "4. 當程序執行至第 5 段時，請輸入資料位置（網址或檔案路徑），然後按下 `Enter` 鍵。\n",
        "5. 在右側的資料夾中找到並下載已轉換的 TXT 檔案。"
      ],
      "metadata": {
        "id": "Yv2Om9abz9lX"
      }
    },
    {
      "cell_type": "code",
      "execution_count": null,
      "metadata": {
        "id": "6fvzdunezuj0"
      },
      "outputs": [],
      "source": [
        "\"\"\"\n",
        "1. 下載必要套件，並引用它們\n",
        "\"\"\"\n",
        "!pip install yt-dlp                     # 用來下載Youtube影片\n",
        "!pip install git+https://github.com/openai/whisper.git   # 用來下載 Whisper\n",
        "!sudo apt update && sudo apt install ffmpeg      # 用 Linux 指令下載 ffmpeg，用來將 \"影片檔\" 轉為 \"錄音檔\"\n",
        "!pip install librosa                    # 用來提取聲音的特徵\n",
        "\n",
        "# 引用套件\n",
        "import whisper\n",
        "import time\n",
        "import librosa\n",
        "import re\n",
        "import yt_dlp as youtube_dl\n",
        "import subprocess\n",
        "from google.colab import widgets\n",
        "import ipywidgets as widgets\n",
        "from IPython.display import display\n",
        "import os"
      ]
    },
    {
      "cell_type": "code",
      "source": [
        "\"\"\"\n",
        "2. 選擇想使用的聲音辨識模型，基本上 base 就夠了\n",
        "\n",
        "  若確定音檔內容皆為英文，則可於模型名稱後加上 \".en\"\n",
        "\n",
        "  若不確定音檔所使用的語言或音檔內容不是純英文，則得移除模型名稱後的 \".en\"\n",
        "\"\"\"\n",
        "# model = whisper.load_model(\"tiny.en\")\n",
        "model = whisper.load_model(\"base\")\n",
        "# model = whisper.load_model(\"small.en\")\n",
        "# model = whisper.load_model(\"medium.en\")\n",
        "# model = whisper.load_model(\"large\")"
      ],
      "metadata": {
        "id": "y2u-wHGF0Iq6"
      },
      "execution_count": null,
      "outputs": []
    },
    {
      "cell_type": "code",
      "source": [
        "\"\"\"\n",
        "3. 這裡是處理各資料類型的函式\n",
        "\"\"\"\n",
        "def youtube_filepath():\n",
        "    url = input(\"Enter a YouTube video URL: \")\n",
        "\n",
        "    # Create a youtube-dl options dictionary\n",
        "    ydl_opts = {\n",
        "        # Specify the format as bestaudio/best\n",
        "        'format': 'bestaudio/best',\n",
        "        # Specify the post-processor as ffmpeg to extract audio and convert to mp3\n",
        "        'postprocessors': [{\n",
        "            'key': 'FFmpegExtractAudio',\n",
        "            'preferredcodec': 'mp3',\n",
        "            'preferredquality': '192',\n",
        "        }],\n",
        "        # Specify the output filename as the video title\n",
        "        'outtmpl': '%(title)s.%(ext)s',\n",
        "    }\n",
        "\n",
        "    # Download the video and extract the audio\n",
        "    with youtube_dl.YoutubeDL(ydl_opts) as ydl:\n",
        "        ydl.download([url])\n",
        "\n",
        "    # Get the path of the file\n",
        "    file_path = ydl.prepare_filename(ydl.extract_info(url, download=False))\n",
        "    file_path = file_path.replace('.webm', '.mp3')\n",
        "    file_path = file_path.replace('.m4a', '.mp3')\n",
        "    return file_path\n",
        "\n",
        "\n",
        "def mp4_filepath():\n",
        "  file_path = input(\"Enter the MP4 filepath: \")\n",
        "  command = \"ffmpeg -i '{}' -vn -ar 44100 -ac 2 -b:a 192k '{}'\".format(file_path.replace(\"/content/\", \"\"), file_path.replace(\".mp4\", \".mp3\"))\n",
        "  !$command\n",
        "  return file_path.replace(\".mp4\", \".mp3\")\n"
      ],
      "metadata": {
        "id": "HNRqInv40MWi"
      },
      "execution_count": 3,
      "outputs": []
    },
    {
      "cell_type": "code",
      "source": [
        "\"\"\"\n",
        "4. 執行本段程式, 選擇欲轉換的資料類型, 並按下確認按鈕\n",
        "\"\"\"\n",
        "file_type = None\n",
        "\n",
        "# Create a dropdown widget for file type selection\n",
        "file_type_dropdown = widgets.Dropdown(\n",
        "    options=['YouTube Link', 'MP4', 'MP3'],\n",
        "    description='資料類型: ',\n",
        ")\n",
        "\n",
        "# Create a button to trigger the processing\n",
        "process_button = widgets.Button(description=\"確定\")\n",
        "\n",
        "# Output widget to display results\n",
        "output = widgets.Output()\n",
        "\n",
        "# Define a function to handle the processing\n",
        "def process_file_type(b):\n",
        "    with output:\n",
        "        output.clear_output()  # Clear previous outputs\n",
        "        print(f\"選擇的資料類型為 {file_type_dropdown.value}\")\n",
        "        global file_type\n",
        "        file_type = file_type_dropdown.value\n",
        "\n",
        "\n",
        "# Link the button to the processing function\n",
        "process_button.on_click(process_file_type)\n",
        "\n",
        "# Display the dropdown, button, and output widget\n",
        "display(file_type_dropdown, process_button, output)\n"
      ],
      "metadata": {
        "id": "IF1XUQxA_ouS"
      },
      "execution_count": null,
      "outputs": []
    },
    {
      "cell_type": "code",
      "source": [
        "\"\"\"\n",
        "5. 輸入網址或資料連結後, 按下 Enter 以開始引用第 3 段的函式\n",
        "\"\"\"\n",
        "if file_type == 'YouTube Link':\n",
        "    print(\"User selected YouTube Link.\")\n",
        "    file_path = youtube_filepath()\n",
        "    print(file_path)\n",
        "\n",
        "elif file_type == 'MP4':\n",
        "    print(\"User selected MP4.\")\n",
        "    file_path = mp4_filepath()\n",
        "    print(file_path)\n",
        "\n",
        "elif file_type == 'MP3':\n",
        "    print(\"User selected MP3.\")\n",
        "    file_path = input(\"Enter the MP3 filepath: \")\n",
        "    print(file_path)\n",
        "\n",
        "else:\n",
        "    print(\"User selected YouTube Link.\")\n",
        "    file_path = youtube_filepath()\n",
        "    print(file_path)"
      ],
      "metadata": {
        "id": "WP1ii8zEH-gI"
      },
      "execution_count": null,
      "outputs": []
    },
    {
      "cell_type": "code",
      "source": [
        "\"\"\"\n",
        "6. 此階段的程式會用 Whisper 模型開始將影音轉為文字\n",
        "  txt 檔案將會被儲存於右側資料夾之中\n",
        "  可以直接下載\n",
        "\"\"\"\n",
        "\n",
        "# Get the duration\n",
        "duration = librosa.get_duration(path=file_path)\n",
        "start = time.time()\n",
        "result = model.transcribe(file_path)\n",
        "end = time.time()\n",
        "seconds = end - start\n",
        "\n",
        "result\n",
        "\n",
        "print(\"Video length:\", duration, \"seconds\")\n",
        "print(\"Transcription time:\", seconds)\n",
        "\n",
        "# Split result[\"text\"]  on !,? and . , but save the punctuation\n",
        "sentences = re.split(\"([!?.])\", result[\"text\"])\n",
        "\n",
        "# Join the punctuation back to the sentences\n",
        "sentences = [\"\".join(i) for i in zip(sentences[0::2], sentences[1::2])]\n",
        "text = \"\\n\\n\".join(sentences)\n",
        "for s in sentences:\n",
        "  print(s)\n",
        "\n",
        "# Save the file as .txt\n",
        "name = \"\".join(file_path) + \".txt\"\n",
        "with open(name, \"w\") as f:\n",
        "  f.write(text)\n",
        "\n",
        "print(\"\\n\\n\", \"-\"*100, \"\\n\\nYour transcript is here:\", name)"
      ],
      "metadata": {
        "id": "G6D7qnJ46l2H"
      },
      "execution_count": null,
      "outputs": []
    }
  ]
}